{
  "nbformat": 4,
  "nbformat_minor": 0,
  "metadata": {
    "colab": {
      "name": "Решение интегральных уравнений Вольтерры 1-го и 2-го рода.ipynb",
      "provenance": [],
      "authorship_tag": "ABX9TyM90udy/WLbE0FsiiftpfH/",
      "include_colab_link": true
    },
    "kernelspec": {
      "name": "python3",
      "display_name": "Python 3"
    },
    "language_info": {
      "name": "python"
    }
  },
  "cells": [
    {
      "cell_type": "markdown",
      "metadata": {
        "id": "view-in-github",
        "colab_type": "text"
      },
      "source": [
        "<a href=\"https://colab.research.google.com/github/IskanderRyspaevUniDubna/MyPractise2022/blob/main/%D0%A0%D0%B5%D1%88%D0%B5%D0%BD%D0%B8%D0%B5_%D0%B8%D0%BD%D1%82%D0%B5%D0%B3%D1%80%D0%B0%D0%BB%D1%8C%D0%BD%D1%8B%D1%85_%D1%83%D1%80%D0%B0%D0%B2%D0%BD%D0%B5%D0%BD%D0%B8%D0%B9_%D0%92%D0%BE%D0%BB%D1%8C%D1%82%D0%B5%D1%80%D1%80%D1%8B_1_%D0%B3%D0%BE_%D0%B8_2_%D0%B3%D0%BE_%D1%80%D0%BE%D0%B4%D0%B0.ipynb\" target=\"_parent\"><img src=\"https://colab.research.google.com/assets/colab-badge.svg\" alt=\"Open In Colab\"/></a>"
      ]
    },
    {
      "cell_type": "markdown",
      "source": [
        "# **Метод последовательных приближений для интегральных уравнений Вольтерры 2-го рода**\n",
        "\n",
        "*(Номера с 319 по 327)*\n",
        "\n",
        "**Общий вид интегрального уравнения Вольтерра 2-го рода**\n",
        "\\begin{equation}\n",
        "  y(x) = \\lambda \\int\\limits_a^x K(x,t) y(t) dt + f(x) \\;\\;\\;\\;\\; \n",
        "\\end{equation}\n",
        "где $\\lambda$ - параметр\n",
        "\n",
        "\n",
        "**Теорема (метод последовательных приближений):**\n",
        "\n",
        "Пусть ядро $K(x,t)$ и неоднородность $f(x)$ непрерывны на отрезке $a \\le t \\le x \\le b$. Тогда для любого значения параметра $\\lambda$ решение интегрального уравнения Вольтерра 2-го рода может быть найдено методом последовательных приближений\n",
        "\\begin{equation}\n",
        "  y(x) = \\lim_{n \\to \\infty} y_n(x)\n",
        "\\end{equation}\n",
        "где $y_n(x)$ находится из рекуррентных соотношений вида\n",
        "\\begin{equation}\n",
        "  y_{n+1}(x) = \\lambda \\int\\limits_a^x K(x,t) y_{n}(t) dt + f(x) \\;\\;\\;\\;\\; \n",
        "\\end{equation}\n"
      ],
      "metadata": {
        "id": "7DeuKRgV4XtS"
      }
    },
    {
      "cell_type": "markdown",
      "source": [
        "## **№319**"
      ],
      "metadata": {
        "id": "YSPsbBROFhDA"
      }
    },
    {
      "cell_type": "markdown",
      "source": [
        "\\begin{equation}\n",
        "  y(x) = x - \\int\\limits_0^x (x - t) y(t) dt; \\;\\;\\;\\;\\; y_0(x) = 0\n",
        "\\end{equation}"
      ],
      "metadata": {
        "id": "-mWCEYb68N9h"
      }
    },
    {
      "cell_type": "code",
      "source": [
        "import sympy as sym\n",
        "from sympy import *\n",
        "\n",
        "x = sym.Symbol('x')\n",
        "t = sym.Symbol('t')\n",
        "def func(K_x_t, f_x, y_0_x, n):\n",
        "  y_n_x = 0\n",
        "  for i in range (0, n):\n",
        "    y_n_x = sym.expand(f_x - sym.integrate(K_x_t * y_0_x, (t, 0, x)))\n",
        "    y_0_x = y_n_x\n",
        "    y_0_x = y_0_x.subs(x, t) \n",
        "    print(str(\"$$\") + str(latex(y_n_x)) + str(\"$$\") + str(\"\\n\"))\n",
        "f_x = x\n",
        "K_x_t = x - t\n",
        "y_0_x = 0\n",
        "n = 5\n",
        "func(K_x_t, f_x, y_0_x, n)"
      ],
      "metadata": {
        "colab": {
          "base_uri": "https://localhost:8080/"
        },
        "id": "TV8g1Fr48wtq",
        "outputId": "9a309a81-5186-4af4-9377-ca102fadb174"
      },
      "execution_count": null,
      "outputs": [
        {
          "output_type": "stream",
          "name": "stdout",
          "text": [
            "$$x$$\n",
            "\n",
            "$$- \\frac{x^{3}}{6} + x$$\n",
            "\n",
            "$$\\frac{x^{5}}{120} - \\frac{x^{3}}{6} + x$$\n",
            "\n",
            "$$- \\frac{x^{7}}{5040} + \\frac{x^{5}}{120} - \\frac{x^{3}}{6} + x$$\n",
            "\n",
            "$$\\frac{x^{9}}{362880} - \\frac{x^{7}}{5040} + \\frac{x^{5}}{120} - \\frac{x^{3}}{6} + x$$\n",
            "\n"
          ]
        }
      ]
    },
    {
      "cell_type": "markdown",
      "source": [
        "\n",
        "$$x$$\n",
        "\n",
        "$$- \\frac{x^{3}}{6} + x$$\n",
        "\n",
        "$$\\frac{x^{5}}{120} - \\frac{x^{3}}{6} + x$$\n",
        "\n",
        "$$- \\frac{x^{7}}{5040} + \\frac{x^{5}}{120} - \\frac{x^{3}}{6} + x$$\n",
        "\n",
        "$$\\frac{x^{9}}{362880} - \\frac{x^{7}}{5040} + \\frac{x^{5}}{120} - \\frac{x^{3}}{6} + x$$"
      ],
      "metadata": {
        "id": "EFlONKezCV1L"
      }
    },
    {
      "cell_type": "markdown",
      "source": [
        "Таким образом, можно заметить, что мы получили следущий ряд:\n",
        "\\begin{equation}\n",
        "  sin(x) = \\sum\\limits_{n = 0}^{\\infty} \\frac{(-1)^n x^{2n+1}}{(2n+1)!}\n",
        "\\end{equation}\n",
        "**Ответ:** $y = sin(x)$"
      ],
      "metadata": {
        "id": "0rUokP4HC-zp"
      }
    },
    {
      "cell_type": "code",
      "source": [
        "sym.series(sym.sin(x), x)"
      ],
      "metadata": {
        "colab": {
          "base_uri": "https://localhost:8080/",
          "height": 54
        },
        "id": "hJNv_iiYFRt_",
        "outputId": "34ba52c3-87b3-49a7-ad34-da19997511fb"
      },
      "execution_count": null,
      "outputs": [
        {
          "output_type": "execute_result",
          "data": {
            "text/plain": [
              "x - x**3/6 + x**5/120 + O(x**6)"
            ],
            "text/latex": "$\\displaystyle x - \\frac{x^{3}}{6} + \\frac{x^{5}}{120} + O\\left(x^{6}\\right)$"
          },
          "metadata": {},
          "execution_count": 4
        }
      ]
    },
    {
      "cell_type": "markdown",
      "source": [
        "# **Сведение интегральных уравнений Вольтерры 1-го рода к интегральным уравнениям 2-го рода**"
      ],
      "metadata": {
        "id": "pj5SXRkTHHo2"
      }
    },
    {
      "cell_type": "code",
      "source": [
        "import sympy as sym\n",
        "x = sym.Symbol('x')\n",
        "t = sym.Symbol('t')\n",
        "\n",
        "K_x_t = sym.exp(x - t)\n",
        "f_x = sym.sin(x)\n",
        "\n",
        "eq_1 = sym.diff(f_x, x) / K_x_t.subs(t,x)\n",
        "eq_2 = sym.diff(K_x_t, x) / K_x_t.subs(t,x)\n",
        "\n",
        "print(sym.diff(f_x, x) / K_x_t.subs(t,x))\n",
        "print(sym.diff(K_x_t, x) / K_x_t.subs(t,x))\n",
        "\n",
        "print(str(\"$$ \") + str(\"y(x) = \") + str(eq_1) + str(\" - \") + str(\"\\int\\limits_0^x \") + str(eq_2) + str(\" y(t)dt\") + str(\" $$\"))"
      ],
      "metadata": {
        "colab": {
          "base_uri": "https://localhost:8080/"
        },
        "id": "FF0a5bXZH7In",
        "outputId": "fa0ec877-6b05-4f89-fa10-3b7d1c690380"
      },
      "execution_count": null,
      "outputs": [
        {
          "output_type": "stream",
          "name": "stdout",
          "text": [
            "cos(x)\n",
            "exp(-t + x)\n",
            "$$ y(x) = cos(x) - \\int\\limits_0^x exp(-t + x) y(t)dt $$\n"
          ]
        }
      ]
    },
    {
      "cell_type": "markdown",
      "source": [
        "$$ y(x) = cos(x) - \\int\\limits_0^x exp(-t + x) y(t)dt $$\n"
      ],
      "metadata": {
        "id": "3YGfkayNLCOT"
      }
    },
    {
      "cell_type": "markdown",
      "source": [
        "Поиск резольвенты"
      ],
      "metadata": {
        "id": "IxVMfXjrvnDf"
      }
    },
    {
      "cell_type": "code",
      "source": [
        "import sympy as sym\n",
        "from sympy import *\n",
        "x = sym.Symbol('x')\n",
        "t = sym.Symbol('t')\n",
        "z = sym.Symbol('z')\n",
        "\n",
        "K_x_t = (2 + sym.cos(x)) / (2 + sym.cos(t))\n",
        "K_1_x_t = K_x_t\n",
        "K_n_x_t = 0\n",
        "print(str(1) + str(\" : \") + str(\"$$ \") + str(latex(K_x_t)) + str(\" $$\"))\n",
        "for i in range(2,7):\n",
        "  K_n_x_t = sym.together(sym.simplify(sym.integrate(K_x_t.subs(t, z) * K_1_x_t.subs(x, z), (z, t, x))))\n",
        "  print(str(i) + str(\" : \") + str(\"$$ \") + str(latex(K_n_x_t)) + str(\" $$\"))\n",
        "\n",
        "  K_1_x_t = K_n_x_t\n"
      ],
      "metadata": {
        "id": "_v5hkaG2xrFa",
        "colab": {
          "base_uri": "https://localhost:8080/"
        },
        "outputId": "5056bd5c-ab28-40df-e501-14ae8989b631"
      },
      "execution_count": null,
      "outputs": [
        {
          "output_type": "stream",
          "name": "stdout",
          "text": [
            "1 : $$ \\frac{\\cos{\\left(x \\right)} + 2}{\\cos{\\left(t \\right)} + 2} $$\n",
            "2 : $$ \\frac{\\left(- t + x\\right) \\left(\\cos{\\left(x \\right)} + 2\\right)}{\\cos{\\left(t \\right)} + 2} $$\n",
            "3 : $$ \\frac{\\left(- t + x\\right)^{2} \\left(\\cos{\\left(x \\right)} + 2\\right)}{2 \\left(\\cos{\\left(t \\right)} + 2\\right)} $$\n",
            "4 : $$ \\frac{\\left(- t + x\\right)^{3} \\left(\\cos{\\left(x \\right)} + 2\\right)}{6 \\left(\\cos{\\left(t \\right)} + 2\\right)} $$\n",
            "5 : $$ \\frac{\\left(- t + x\\right)^{4} \\left(\\cos{\\left(x \\right)} + 2\\right)}{24 \\left(\\cos{\\left(t \\right)} + 2\\right)} $$\n",
            "6 : $$ \\frac{\\left(- t + x\\right)^{5} \\left(\\cos{\\left(x \\right)} + 2\\right)}{120 \\left(\\cos{\\left(t \\right)} + 2\\right)} $$\n"
          ]
        }
      ]
    },
    {
      "cell_type": "markdown",
      "source": [
        "1 : $$ \\frac{\\cos{\\left(x \\right)} + 2}{\\cos{\\left(t \\right)} + 2} $$\n",
        "2 : $$ \\frac{\\left(- t + x\\right) \\left(\\cos{\\left(x \\right)} + 2\\right)}{\\cos{\\left(t \\right)} + 2} $$\n",
        "3 : $$ \\frac{\\left(- t + x\\right)^{2} \\left(\\cos{\\left(x \\right)} + 2\\right)}{2 \\left(\\cos{\\left(t \\right)} + 2\\right)} $$\n",
        "4 : $$ \\frac{\\left(- t + x\\right)^{3} \\left(\\cos{\\left(x \\right)} + 2\\right)}{6 \\left(\\cos{\\left(t \\right)} + 2\\right)} $$\n",
        "5 : $$ \\frac{\\left(- t + x\\right)^{4} \\left(\\cos{\\left(x \\right)} + 2\\right)}{24 \\left(\\cos{\\left(t \\right)} + 2\\right)} $$\n",
        "6 : $$ \\frac{\\left(- t + x\\right)^{5} \\left(\\cos{\\left(x \\right)} + 2\\right)}{120 \\left(\\cos{\\left(t \\right)} + 2\\right)} $$"
      ],
      "metadata": {
        "id": "FMuR8Er2Zcnl"
      }
    },
    {
      "cell_type": "code",
      "source": [
        "from sympy import*\n",
        "var('p')\n",
        "var('x', positive=True)\n",
        "\n",
        "f_1 = exp(x)\n",
        "L1 = laplace_transform(f_1, x, p, noconds=True)\n",
        "print(L1)\n",
        "\n",
        "f_2 = x**2\n",
        "L2 = laplace_transform(f_2, x, p, noconds=True)\n",
        "print(L2)\n",
        "\n",
        "p = sym.Symbol('p')\n",
        "F = sym.Symbol('F')\n",
        "\n",
        "EQ = L1 * F - L2\n",
        "\n",
        "EQ_1 = solve(EQ,F)\n",
        "\n",
        "EQ_1 = EQ_1[0]\n",
        "\n",
        "print(inverse_laplace_transform(EQ_1, p, x))"
      ],
      "metadata": {
        "colab": {
          "base_uri": "https://localhost:8080/"
        },
        "id": "343scatYnvxf",
        "outputId": "584bc7be-74ca-4c81-d77c-e711119d3e81"
      },
      "execution_count": null,
      "outputs": [
        {
          "output_type": "stream",
          "name": "stdout",
          "text": [
            "1/(p - 1)\n",
            "2/p**3\n",
            "x*(2 - x)\n"
          ]
        }
      ]
    }
  ]
}