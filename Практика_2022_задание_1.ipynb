{
  "nbformat": 4,
  "nbformat_minor": 0,
  "metadata": {
    "colab": {
      "name": "Практика 2022 задание 1.ipynb",
      "provenance": [],
      "collapsed_sections": [],
      "toc_visible": true,
      "authorship_tag": "ABX9TyP+WXivC5NRaIx09TBVs0Rg",
      "include_colab_link": true
    },
    "kernelspec": {
      "name": "python3",
      "display_name": "Python 3"
    },
    "language_info": {
      "name": "python"
    }
  },
  "cells": [
    {
      "cell_type": "markdown",
      "metadata": {
        "id": "view-in-github",
        "colab_type": "text"
      },
      "source": [
        "<a href=\"https://colab.research.google.com/github/IskanderRyspaevUniDubna/MyPractise2022/blob/main/%D0%9F%D1%80%D0%B0%D0%BA%D1%82%D0%B8%D0%BA%D0%B0_2022_%D0%B7%D0%B0%D0%B4%D0%B0%D0%BD%D0%B8%D0%B5_1.ipynb\" target=\"_parent\"><img src=\"https://colab.research.google.com/assets/colab-badge.svg\" alt=\"Open In Colab\"/></a>"
      ]
    },
    {
      "cell_type": "markdown",
      "source": [
        "# **Задание №1**"
      ],
      "metadata": {
        "id": "mELA7Sgg7UPK"
      }
    },
    {
      "cell_type": "markdown",
      "source": [
        "Рассчитать численно значение интеграла \n",
        "$$\\int \\frac{dp}{\\pi^2}F(p^2)\\frac{1}{U_1U_2}$$\n",
        "если \n",
        "\n",
        "\n",
        "1.   $m_1 \\neq m_2:$\n",
        "\\begin{equation*}\n",
        " \\begin{cases}\n",
        "    m_1 = 0,28 \\;\\; Gev\n",
        "    \\\\\n",
        "    m_2 = 0,36 \\;\\; Gev\n",
        " \\end{cases}\n",
        "\\end{equation*}\n",
        "\\begin{equation*}\n",
        "  P^2 = -0.14^2\n",
        "\\end{equation*}\n",
        "2.   $m_1 = m_2:$\n",
        "\\begin{equation*}\n",
        "  \\begin{cases}\n",
        "    m_1 = 0,38 \\;\\; Gev\n",
        "    \\\\\n",
        "    m_2 = 0,38 \\;\\; Gev\n",
        " \\end{cases}\n",
        "\\end{equation*}\n",
        "\\begin{equation*}\n",
        "  P^2 = -0.14^2\n",
        "\\end{equation*}\n",
        "\n"
      ],
      "metadata": {
        "id": "r9tEZPps9kKk"
      }
    },
    {
      "cell_type": "markdown",
      "source": [
        "# **Решение**\n"
      ],
      "metadata": {
        "id": "1qK3z6PU_89N"
      }
    },
    {
      "cell_type": "markdown",
      "source": [
        "Рассмотрим функцию $$\\int \\frac{dp}{\\pi^2}F(p^2)\\frac{1}{U_1U_2} $$\n",
        "Преобразуем её\n",
        "\\begin{equation*}\n",
        "\\int \\frac{dp}{\\pi^2}F(p^2)\\frac{1}{U_1U_2} = \\int [d\\alpha]_2 \\int_0^\\infty \\frac{t}{(1 + t)^2} dt \\cdot F[z_0] = \n",
        "\\left[\n",
        "  \\begin{array}{ccc}\n",
        "     \\int [d\\alpha]_2  =  \\int_0^1 d\\alpha_1 \\\\\n",
        "     F[z_0]  =  e^{-z_0} \\\\\n",
        "  \\end{array}\n",
        "\\right] = \n",
        "\\end{equation*}\n",
        "\\begin{equation*}\n",
        "= \\int_0^1 d\\alpha_1 \\int_0^\\infty \\frac{t}{(1 + t)^2} dt \\cdot e^{-z_0} =\n",
        "\\left[\n",
        "  \\begin{array}{ccc}\n",
        "     z_0 = tD + \\frac{t}{1 + t} R^2\n",
        "  \\end{array}\n",
        "\\right] = \\int_0^1 d\\alpha_1 \\int_0^\\infty \\frac{t}{(1 + t)^2} dt \\cdot e^{-tD - \\frac{t}{1 + t} R^2}\n",
        "\\end{equation*}\n",
        "Таким образом мы получили выражение $$\\int_0^1 d\\alpha_1 \\int_0^\\infty \\frac{t}{(1 + t)^2} dt \\cdot e^{-tD - \\frac{t}{1 + t} R^2}$$\n",
        "где:\n",
        "\n",
        "$R^2 = \\alpha_1^2q_1^2 + \\alpha_2^2q_2^2 + 2\\alpha_1\\alpha_2(q_1q_2); \\;\\;\\;\\;\\;\\; \\alpha_2 = 1 - \\alpha_1$\n",
        "\n",
        "$D = \\alpha_1(q_1^2 + m_1^2) + \\alpha_2(q_2^2  + m_2^2) - R^2  \\;\\;\\;\\;\\;\\;$\n",
        "\n",
        "$q_1^2 = b_1^2 P^2; \\;\\;q_2^2 = b_2^2P^2; \\;\\; q_1q_2 = b_1b_2P^2$\n",
        "\n",
        "$b_1 = -\\frac{m_1}{m_1 + m_2}\n",
        "\\\\\n",
        "b_2 = \\frac{m_2}{m_1 + m_2}\n",
        "$"
      ],
      "metadata": {
        "id": "zvFjSN12AYGK"
      }
    },
    {
      "cell_type": "markdown",
      "source": [
        "# **Получение полинома**\n"
      ],
      "metadata": {
        "id": "Hccl0iRLEV3u"
      }
    },
    {
      "cell_type": "markdown",
      "source": [
        "\\begin{equation*}\n",
        " \\begin{cases}\n",
        "    m_1 = 0,28 \\;\\; Gev\n",
        "    \\\\\n",
        "    m_2 = 0,36 \\;\\; Gev\n",
        " \\end{cases}\n",
        "\\end{equation*}\n",
        "\n",
        "\\begin{equation*}\n",
        "  P^2 = -0.14^2\n",
        "\\end{equation*}"
      ],
      "metadata": {
        "id": "KIgRuq3BEy-6"
      }
    },
    {
      "cell_type": "code",
      "source": [
        "m_1 = 0.28\n",
        "m_2 = 0.36\n",
        "PP = -((0.14**2))"
      ],
      "metadata": {
        "id": "XUoZq3OeE5Gd"
      },
      "execution_count": null,
      "outputs": []
    },
    {
      "cell_type": "markdown",
      "source": [
        "\\begin{equation*}\n",
        "b_1 = -\\frac{m_1}{m_1 + m_2}\n",
        "\\\\\n",
        "b_2 = \\frac{m_2}{m_1 + m_2}\n",
        "\\end{equation*}"
      ],
      "metadata": {
        "id": "gpmTp_nUE-P3"
      }
    },
    {
      "cell_type": "code",
      "source": [
        "b_1 = -m_1/(m_1+m_2)\n",
        "b_2 = m_2/(m_1+m_2)\n"
      ],
      "metadata": {
        "id": "xeuqla4_FCan"
      },
      "execution_count": null,
      "outputs": []
    },
    {
      "cell_type": "markdown",
      "source": [
        "\\begin{equation*}\n",
        "q_1^2 = b_1^2 P^2; \\;\\;q_2^2 = b_2^2P^2; \\;\\; q_1q_2 = b_1b_2P^2\n",
        "\\end{equation*}\n"
      ],
      "metadata": {
        "id": "3BcflME0FIa7"
      }
    },
    {
      "cell_type": "code",
      "source": [
        "q_1__q_1 = b_1 * b_1 * PP\n",
        "q_2__q_2 = b_2 * b_2 * PP\n",
        "q_1__q_2 = b_1 * b_2 * PP\n"
      ],
      "metadata": {
        "id": "-TGL6r-1FKFM"
      },
      "execution_count": null,
      "outputs": []
    },
    {
      "cell_type": "markdown",
      "source": [
        "\\begin{equation*}\n",
        "R^2 = \\alpha_1^2q_1^2 + \\alpha_2^2q_2^2 + 2\\alpha_1\\alpha_2(q_1q_2); \\;\\;\\;\\;\\;\\; \\alpha_2 = 1 - \\alpha_1\n",
        "\\end{equation*}:\n",
        "\n"
      ],
      "metadata": {
        "id": "-GpANmi2Fy-F"
      }
    },
    {
      "cell_type": "code",
      "source": [
        "import math\n",
        "import sys\n",
        "import sympy as sym\n",
        "import numpy as np\n",
        "from scipy.integrate import dblquad\n",
        "from scipy import integrate\n",
        "from sympy import Pow\n",
        "from sympy import*\n",
        "from sympy.abc import*\n",
        "\n",
        "\n",
        "x = sym.Symbol('x')\n",
        "y = sym.Symbol('y')\n",
        "R2 = \"R2 = \" + str(q_1__q_1) + \" * \" + \"x**2\" + \" + \" + str(q_2__q_2) + \" * \" + \"(1 - x)**2\" + \"+\" + str(q_1__q_2) + \" * \" + \"2 *x * (1 - x)\"\n",
        "exec(R2)\n",
        "R2 = sym.expand(R2)\n",
        "print(R2)"
      ],
      "metadata": {
        "colab": {
          "base_uri": "https://localhost:8080/"
        },
        "id": "e43tP9twGFAf",
        "outputId": "7412fde4-4fd5-4375-9045-98a21e10d7e2"
      },
      "execution_count": null,
      "outputs": [
        {
          "output_type": "stream",
          "name": "stdout",
          "text": [
            "-0.0196*x**2 + 0.02205*x - 0.0062015625\n"
          ]
        }
      ]
    },
    {
      "cell_type": "markdown",
      "source": [
        "\\begin{equation*}\n",
        "D = \\alpha_1(q_1^2 + m_1^2) + \\alpha_2(q_2^2  + m_2^2) - R^2  \\;\\;\\;\\;\\;\\; \\alpha_2 = 1 - \\alpha_1\n",
        "\\end{equation*}"
      ],
      "metadata": {
        "id": "K_fpunYxGx-l"
      }
    },
    {
      "cell_type": "code",
      "source": [
        "D = \"D = \" + str(q_1__q_1 + m_1 * m_1) + \" * \" + str(\"x\") + \" + \" + str(q_2__q_2 + m_2 * m_2) + \" * \" + str((1 - x))\n",
        "exec(D)\n",
        "D = sym.expand(D - R2)\n",
        "print(D)"
      ],
      "metadata": {
        "colab": {
          "base_uri": "https://localhost:8080/"
        },
        "id": "HtPUckSEHC9G",
        "outputId": "84616fe3-f4a7-4d60-ebf9-e39b77cbfd3d"
      },
      "execution_count": null,
      "outputs": [
        {
          "output_type": "stream",
          "name": "stdout",
          "text": [
            "0.0196*x**2 - 0.9474015625*x + 0.1296\n"
          ]
        }
      ]
    },
    {
      "cell_type": "markdown",
      "source": [
        "\\begin{equation*}\n",
        "z_0 = tD + \\frac{t}{1 + t} R^2\n",
        "\\end{equation*}\n"
      ],
      "metadata": {
        "id": "JMJNqeIvH6l3"
      }
    },
    {
      "cell_type": "code",
      "source": [
        "z_0 = y * D + (y/(1 + y)) * R2\n",
        "print(z_0)"
      ],
      "metadata": {
        "colab": {
          "base_uri": "https://localhost:8080/"
        },
        "id": "VvJxDr4tIHK5",
        "outputId": "d8ce9e9a-c6f1-4e5c-9580-e53e499b9d47"
      },
      "execution_count": null,
      "outputs": [
        {
          "output_type": "stream",
          "name": "stdout",
          "text": [
            "y*(0.0196*x**2 - 0.9474015625*x + 0.1296) + y*(-0.0196*x**2 + 0.02205*x - 0.0062015625)/(y + 1)\n"
          ]
        }
      ]
    },
    {
      "cell_type": "markdown",
      "source": [
        "\\begin{equation*}\n",
        "  F[z_0] = e^{-z_0}\n",
        "\\end{equation*}\n"
      ],
      "metadata": {
        "id": "L8HG61oSI0RH"
      }
    },
    {
      "cell_type": "code",
      "source": [
        "F_z_0 = Pow(math.e , -z_0)\n",
        "print(F_z_0)\n"
      ],
      "metadata": {
        "colab": {
          "base_uri": "https://localhost:8080/"
        },
        "id": "BXEiSShaJLst",
        "outputId": "8cd70d00-205b-4c2b-dd4c-fabdd0f085f9"
      },
      "execution_count": null,
      "outputs": [
        {
          "output_type": "stream",
          "name": "stdout",
          "text": [
            "2.71828182845905**(-y*(0.0196*x**2 - 0.9474015625*x + 0.1296) - y*(-0.0196*x**2 + 0.02205*x - 0.0062015625)/(y + 1))\n"
          ]
        }
      ]
    },
    {
      "cell_type": "markdown",
      "source": [
        "\\begin{equation*}\n",
        "  \\frac{t}{(1 + t)^2} F[z_0]  \n",
        "\\end{equation*}"
      ],
      "metadata": {
        "id": "veXz_lSEKEpO"
      }
    },
    {
      "cell_type": "code",
      "source": [
        "polinom = (y/((1+y)*(1+y))) * F_z_0\n",
        "print(latex(polinom))"
      ],
      "metadata": {
        "colab": {
          "base_uri": "https://localhost:8080/"
        },
        "id": "EbYzDvIbKqgQ",
        "outputId": "a121b4b9-20df-49e6-a685-2b406056ede6"
      },
      "execution_count": null,
      "outputs": [
        {
          "output_type": "stream",
          "name": "stdout",
          "text": [
            "\\frac{2.71828182845905^{- y \\left(0.0196 x^{2} - 0.9474015625 x + 0.1296\\right) - \\frac{y \\left(- 0.0196 x^{2} + 0.02205 x - 0.0062015625\\right)}{y + 1}} y}{\\left(y + 1\\right)^{2}}\n"
          ]
        }
      ]
    },
    {
      "cell_type": "markdown",
      "source": [
        "$$\\frac{e^{- y \\left(0.0196 x^{2} - 0.9474015625 x + 0.1296\\right) - \\frac{y \\left(- 0.0196 x^{2} + 0.02205 x - 0.0062015625\\right)}{y + 1}} y}{\\left(y + 1\\right)^{2}}\n",
        "$$"
      ],
      "metadata": {
        "id": "Y64yNYKsNHdU"
      }
    },
    {
      "cell_type": "markdown",
      "source": [
        "# **Интегрирование полинома**\n"
      ],
      "metadata": {
        "id": "K3BEEjd2Nqkw"
      }
    },
    {
      "cell_type": "markdown",
      "source": [
        "\\begin{equation*}\n",
        "\\int_0^1 dx \\int_0^\\infty \\frac{y}{(1 + y)^2} dy \\cdot e^{-yD - \\frac{y}{1 + y} R^2}\n",
        "\\end{equation*}"
      ],
      "metadata": {
        "id": "oooAMa_kOZc5"
      }
    },
    {
      "cell_type": "code",
      "source": [
        "from scipy import integrate\n",
        "import math\n",
        "import numpy as np\n",
        "import sys\n",
        "# Интегрируемая функция с параметрами\n",
        "def integrable_function_with_parameters(x, y, m_1, m_2, PP):\n",
        "  b_1 = -m_1 / (m_1 + m_2)\n",
        "  b_2 = m_2 / (m_1 + m_2)\n",
        "  q_1__q_1 = b_1 * b_1 * PP\n",
        "  q_2__q_2 = b_2 * b_2 * PP\n",
        "  q_1__q_2 = b_1 * b_2 * PP\n",
        "  R2 = q_1__q_1*x*x + q_2__q_2*(1 - x)*(1 - x) + 2*x*(1 - x)*q_1__q_2\n",
        "  D = (q_1__q_1 + m_1*m_1)*x + (q_2__q_2 + m_2*m_2)*(1 - x) - R2\n",
        "  z_0 = y * D + (y / (1 + y)) * R2\n",
        "  return (y/((1.0 + y) * (1.0 + y))) * exp(-z_0)\n",
        "\n",
        "# Интегрируемая функция без параметров\n",
        "# Она нам нужна, чтобы взять двойной интеграл, так как\n",
        "# метод integrate.dblquad принимает на вход только функции, зависящие от x и y.\n",
        "def integrable_function_with_X_and_Y(x, y):\n",
        "  # Тут выставлены значения m_1, m_2 и PP по умолчанию.\n",
        "  m_1 = 0.28\n",
        "  m_2 = 0.28\n",
        "  PP = -0.019\n",
        "  return integrable_function_with_parameters(x, y, m_1, m_2, PP)"
      ],
      "metadata": {
        "id": "QZOxoMO2z5ZW"
      },
      "execution_count": null,
      "outputs": []
    },
    {
      "cell_type": "markdown",
      "source": [
        "# **Ответы**\n",
        "\n"
      ],
      "metadata": {
        "id": "AwyjebDPYxTd"
      }
    },
    {
      "cell_type": "markdown",
      "source": [
        "**Для случая:**\n",
        "$$m_1 \\neq m_2:$$\n",
        "\\begin{equation*}\n",
        " \\begin{cases}\n",
        "    m_1 = 0,28 \\;\\; Gev\n",
        "    \\\\\n",
        "    m_2 = 0,36 \\;\\; Gev\n",
        " \\end{cases}\n",
        "\\end{equation*}\n",
        "\\begin{equation*}\n",
        "  P^2 = -0.14^2\n",
        "\\end{equation*}"
      ],
      "metadata": {
        "id": "V83ruKfRY3_G"
      }
    },
    {
      "cell_type": "code",
      "source": [
        "def integrable_function_with_X_and_Y(x, y):\n",
        "  m_1 = 0.28\n",
        "  m_2 = 0.36\n",
        "  PP = -0.0196\n",
        "  return integrable_function_with_parameters(x, y, m_1, m_2, PP)\n",
        "\n",
        "v, err = integrate.dblquad(integrable_function_with_X_and_Y, 0, np.infty, lambda x: 0, lambda x: 1)\n",
        "print(v)"
      ],
      "metadata": {
        "colab": {
          "base_uri": "https://localhost:8080/"
        },
        "id": "40SVHdtrZQBJ",
        "outputId": "2345dde6-7389-41e4-f803-8b277a0dd869"
      },
      "execution_count": null,
      "outputs": [
        {
          "output_type": "stream",
          "name": "stdout",
          "text": [
            "1.2218109323626238\n"
          ]
        }
      ]
    },
    {
      "cell_type": "markdown",
      "source": [
        "**Для случая:**\n",
        "\n",
        "$$m_1 = m_2:$$\n",
        "\\begin{equation*}\n",
        "  \\begin{cases}\n",
        "    m_1 = 0,38 \\;\\; Gev\n",
        "    \\\\\n",
        "    m_2 = 0,38 \\;\\; Gev\n",
        " \\end{cases}\n",
        "\\end{equation*}\n",
        "\\begin{equation*}\n",
        "  P^2 = -0.14^2\n",
        "\\end{equation*}"
      ],
      "metadata": {
        "id": "mEEy9RZ_aLMY"
      }
    },
    {
      "cell_type": "code",
      "source": [
        "def integrable_function_with_X_and_Y(x, y):\n",
        "  m_1 = 0.38\n",
        "  m_2 = 0.38\n",
        "  PP = -0.0196\n",
        "  return integrable_function_with_parameters(x, y, m_1, m_2, PP)\n",
        "\n",
        "v, err = integrate.dblquad(integrable_function_with_X_and_Y, 0, np.infty, lambda x: 0, lambda x: 1)\n",
        "print(v)"
      ],
      "metadata": {
        "colab": {
          "base_uri": "https://localhost:8080/"
        },
        "id": "dnHfcxZgafMd",
        "outputId": "393fdb7f-c118-4ec8-b9dc-57e494d91e88"
      },
      "execution_count": null,
      "outputs": [
        {
          "output_type": "stream",
          "name": "stdout",
          "text": [
            "0.9948393915966321\n"
          ]
        }
      ]
    },
    {
      "cell_type": "markdown",
      "source": [
        "# **Графики функции**"
      ],
      "metadata": {
        "id": "Vz0KKz5lba0G"
      }
    },
    {
      "cell_type": "markdown",
      "source": [
        "**Для случая:**\n",
        "$$m_1 \\neq m_2:$$\n",
        "\\begin{equation*}\n",
        " \\begin{cases}\n",
        "    m_1 = 0,28 \\;\\; Gev\n",
        "    \\\\\n",
        "    m_2 = 0,36 \\;\\; Gev\n",
        " \\end{cases}\n",
        "\\end{equation*}\n",
        "\n",
        "$P^2$ изменяется от $0$ до $3$ с шагом $h$ = 0.25\n"
      ],
      "metadata": {
        "id": "KuCoLWZuf-af"
      }
    },
    {
      "cell_type": "code",
      "source": [
        "def integrable_function_with_N():\n",
        "  pp = [0, 0.25, 0.5, 0.75, 1.0, 1,25, 1.5, 1.75, 2.0, 2.25, 2.5, 2.75, 3]\n",
        "  for i in range(0,len(pp)):\n",
        "    def my_func(x, y):\n",
        "      m_1 = 0.28\n",
        "      m_2 = 0.36\n",
        "      PP = pp[i]\n",
        "      return integrable_function_with_parameters(x, y, m_1, m_2, PP)\n",
        "    v, err = integrate.dblquad(my_func, 0, np.infty, lambda x: 0, lambda x: 1)\n",
        "    print(v)\n",
        "    \n",
        "integrable_function_with_N()"
      ],
      "metadata": {
        "id": "SfN4P6ejbqja",
        "colab": {
          "base_uri": "https://localhost:8080/"
        },
        "outputId": "0b323106-352b-4244-e06a-c0535d5669cc"
      },
      "execution_count": null,
      "outputs": [
        {
          "output_type": "stream",
          "name": "stdout",
          "text": [
            "1.1984312372574308\n",
            "0.9717865811105396\n",
            "0.8227118086218159\n",
            "0.7143261599270678\n",
            "0.6308546161145374\n",
            "0.6308546161145374\n",
            "0.019613896023502\n",
            "0.5092225402990773\n",
            "0.4632088928279642\n",
            "0.4240001316145737\n",
            "0.3901582947196146\n",
            "0.3606377470311508\n",
            "0.33465637202387505\n",
            "0.31161533615299475\n"
          ]
        }
      ]
    },
    {
      "cell_type": "code",
      "source": [
        "from matplotlib import pyplot as plt   \n",
        "   \n",
        "x = [0, 0.25, 0.5, 0.75, 1.0, 1,25, 1.5, 1.75, 2.0, 2.25, 2.5, 2.75, 3]   \n",
        "y = [1.1984312372574308,0.9717865811105396,0.8227118086218159,0.7143261599270678,0.6308546161145374,0.6308546161145374,0.019613896023502,0.5092225402990773,0.4632088928279642, 0.4240001316145737, 0.3901582947196146, 0.3606377470311508, 0.33465637202387505, 0.31161533615299475]\n",
        "\n",
        "plt.figure()\n",
        "plt.scatter(x,y)   \n",
        "   \n",
        "plt.title(\"Line graph\")  \n",
        "plt.xlim (0, 4)\n",
        "\n",
        "plt.ylabel('Y axis')   \n",
        "plt.xlabel('X axis')   \n",
        "plt.show()   "
      ],
      "metadata": {
        "colab": {
          "base_uri": "https://localhost:8080/",
          "height": 295
        },
        "id": "cMgo32khhvis",
        "outputId": "dafe2141-f8a5-4057-e2c3-f77e20bf7b30"
      },
      "execution_count": null,
      "outputs": [
        {
          "output_type": "display_data",
          "data": {
            "text/plain": [
              "<Figure size 432x288 with 1 Axes>"
            ],
            "image/png": "[encoded data removed]"
          },
          "metadata": {
            "needs_background": "light"
          }
        }
      ]
    },
    {
      "cell_type": "markdown",
      "source": [
        "\n",
        "**Для случая:**\n",
        "\n",
        "$$m_1 = m_2:$$\n",
        "\\begin{equation*}\n",
        "  \\begin{cases}\n",
        "    m_1 = 0,38 \\;\\; Gev\n",
        "    \\\\\n",
        "    m_2 = 0,38 \\;\\; Gev\n",
        " \\end{cases}\n",
        "\\end{equation*}\n",
        "$P^2$ изменяется от $0$ до $3$ с шагом $h$ = 0.25\n"
      ],
      "metadata": {
        "id": "g_kbdxGJgSqh"
      }
    },
    {
      "cell_type": "code",
      "source": [
        "def integrable_function_with_N():\n",
        "  pp = [0, 0.25, 0.5, 0.75, 1.0, 1,25, 1.5, 1.75, 2.0, 2.25, 2.5, 2.75, 3]\n",
        "  for i in range(0,len(pp)):\n",
        "    def my_func(x, y):\n",
        "      m_1 = 0.38\n",
        "      m_2 = 0.38\n",
        "      PP = pp[i]\n",
        "      return integrable_function_with_parameters(x, y, m_1, m_2, PP)\n",
        "    v, err = integrate.dblquad(my_func, 0, np.infty, lambda x: 0, lambda x: 1)\n",
        "    print(str(v) + str(\",\"))\n",
        "    \n",
        "integrable_function_with_N()"
      ],
      "metadata": {
        "id": "wsvjuB8hgkU9",
        "colab": {
          "base_uri": "https://localhost:8080/"
        },
        "outputId": "2482bf9a-88ac-4ce2-9862-78e92634eaf8"
      },
      "execution_count": null,
      "outputs": [
        {
          "output_type": "stream",
          "name": "stdout",
          "text": [
            "0.9797004952258171,\n",
            "0.8235127752144035,\n",
            "0.7122495863099159,\n",
            "0.6275519985244297,\n",
            "0.5602999645874274,\n",
            "0.5602999645874274,\n",
            "0.018849392666104102,\n",
            "0.4593403269666231,\n",
            "0.42026844563769294,\n",
            "0.38660384738190845,\n",
            "0.35727522566176445,\n",
            "0.3314864790447913,\n",
            "0.3086312747522022,\n",
            "0.28823819399666156,\n"
          ]
        }
      ]
    },
    {
      "cell_type": "code",
      "source": [
        "from matplotlib import pyplot as plt   \n",
        "   \n",
        "x = [0, 0.25, 0.5, 0.75, 1.0, 1,25, 1.5, 1.75, 2.0, 2.25, 2.5, 2.75, 3]   \n",
        "y = [\n",
        "     0.9797004952258171,\n",
        "0.8235127752144035,\n",
        "0.7122495863099159,\n",
        "0.6275519985244297,\n",
        "0.5602999645874274,\n",
        "0.5602999645874274,\n",
        "0.018849392666104102,\n",
        "0.4593403269666231,\n",
        "0.42026844563769294,\n",
        "0.38660384738190845,\n",
        "0.35727522566176445,\n",
        "0.3314864790447913,\n",
        "0.3086312747522022,\n",
        "0.28823819399666156,\n",
        "     \n",
        "]\n",
        "\n",
        "plt.figure()\n",
        "plt.scatter(x,y)   \n",
        "   \n",
        "plt.title(\"Line graph\")  \n",
        "plt.xlim (0, 4)\n",
        "\n",
        "plt.ylabel('Y axis')   \n",
        "plt.xlabel('X axis')   \n",
        "plt.show()   "
      ],
      "metadata": {
        "colab": {
          "base_uri": "https://localhost:8080/",
          "height": 295
        },
        "id": "mjS1wYiyjxg-",
        "outputId": "8d586635-115c-4d74-8072-826a2390bbde"
      },
      "execution_count": null,
      "outputs": [
        {
          "output_type": "display_data",
          "data": {
            "text/plain": [
              "<Figure size 432x288 with 1 Axes>"
            ],
            "image/png": "[encoded data removed]"
          },
          "metadata": {
            "needs_background": "light"
          }
        }
      ]
    },
    {
      "cell_type": "code",
      "source": [
        "from matplotlib import pyplot as plt   \n",
        "\n",
        "# Общий график двух фуекций \n",
        "x_1 = [0, 0.25, 0.5, 0.75, 1.0, 1,25, 1.5, 1.75, 2.0, 2.25, 2.5, 2.75, 3]   \n",
        "y_1 = [1.1984312372574308,0.9717865811105396,0.8227118086218159,0.7143261599270678,0.6308546161145374,0.6308546161145374,0.019613896023502,0.5092225402990773,0.4632088928279642, 0.4240001316145737, 0.3901582947196146, 0.3606377470311508, 0.33465637202387505, 0.31161533615299475]\n",
        "\n",
        "x_2 = [0, 0.25, 0.5, 0.75, 1.0, 1,25, 1.5, 1.75, 2.0, 2.25, 2.5, 2.75, 3]   \n",
        "y_2= [\n",
        "     0.9797004952258171,\n",
        "0.8235127752144035,\n",
        "0.7122495863099159,\n",
        "0.6275519985244297,\n",
        "0.5602999645874274,\n",
        "0.5602999645874274,\n",
        "0.018849392666104102,\n",
        "0.4593403269666231,\n",
        "0.42026844563769294,\n",
        "0.38660384738190845,\n",
        "0.35727522566176445,\n",
        "0.3314864790447913,\n",
        "0.3086312747522022,\n",
        "0.28823819399666156,\n",
        "     \n",
        "]\n",
        "\n",
        "plt.figure()\n",
        "plt.scatter(x_1,y_1)   \n",
        "plt.scatter(x_2,y_2)   \n",
        "\n",
        "   \n",
        "plt.title(\"Line graph\")  \n",
        "plt.xlim (0, 4)\n",
        "\n",
        "plt.ylabel('Y axis')   \n",
        "plt.xlabel('X axis')   \n",
        "plt.show()"
      ],
      "metadata": {
        "colab": {
          "base_uri": "https://localhost:8080/",
          "height": 295
        },
        "id": "B97FR7nUk1Xo",
        "outputId": "abe94341-9998-4958-f6d0-623de52c4f2b"
      },
      "execution_count": null,
      "outputs": [
        {
          "output_type": "display_data",
          "data": {
            "text/plain": [
              "<Figure size 432x288 with 1 Axes>"
            ],
            "image/png": "[encoded data removed]"
          },
          "metadata": {
            "needs_background": "light"
          }
        }
      ]
    }
  ]
}