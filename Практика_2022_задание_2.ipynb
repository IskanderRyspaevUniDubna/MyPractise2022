{
  "nbformat": 4,
  "nbformat_minor": 0,
  "metadata": {
    "colab": {
      "name": "Практика 2022 задание 2.ipynb",
      "provenance": [],
      "collapsed_sections": [],
      "authorship_tag": "ABX9TyO9H+99RshU72nn+/1iAFbw",
      "include_colab_link": true
    },
    "kernelspec": {
      "name": "python3",
      "display_name": "Python 3"
    },
    "language_info": {
      "name": "python"
    }
  },
  "cells": [
    {
      "cell_type": "markdown",
      "metadata": {
        "id": "view-in-github",
        "colab_type": "text"
      },
      "source": [
        "<a href=\"https://colab.research.google.com/github/IskanderRyspaevUniDubna/MyPractise2022/blob/main/%D0%9F%D1%80%D0%B0%D0%BA%D1%82%D0%B8%D0%BA%D0%B0_2022_%D0%B7%D0%B0%D0%B4%D0%B0%D0%BD%D0%B8%D0%B5_2.ipynb\" target=\"_parent\"><img src=\"https://colab.research.google.com/assets/colab-badge.svg\" alt=\"Open In Colab\"/></a>"
      ]
    },
    {
      "cell_type": "markdown",
      "source": [
        "# **Задание №2**"
      ],
      "metadata": {
        "id": "1rpsoK19q5Pr"
      }
    },
    {
      "cell_type": "markdown",
      "source": [
        "\\begin{equation}\n",
        "  \\int\\frac{dp}{\\pi^2}F(p^2)\\frac{1}{((p+q_1)^2+m_1^2)((p+q_2)^2+m_2^2)}\\cdot p_{\\mu}=-\\int[d\\alpha]_2\\int\\frac{t^2}{(1+t)^3}dt\\cdot F[z_0] R_{\\mu}\n",
        "\\end{equation}"
      ],
      "metadata": {
        "id": "3K5vTAAirGNh"
      }
    },
    {
      "cell_type": "markdown",
      "source": [
        "\\begin{equation}\n",
        "   R_{\\mu}=\\alpha_1q_1^{\\mu}+\\alpha_2q_2^{\\mu}\n",
        "\\end{equation}\n",
        "\\begin{equation}\n",
        "z_0 = tD + \\frac{t}{1 + t} R^2\n",
        "\\end{equation}\n",
        "\\begin{equation}\n",
        "  F[z_0] = e^{-z_0}\n",
        "\\end{equation}"
      ],
      "metadata": {
        "id": "179hQcfjBgiu"
      }
    },
    {
      "cell_type": "markdown",
      "source": [
        "\\begin{equation}\n",
        "  D=\\alpha_1(q_1^2+m_1^2)+\\alpha_2(q_2^2+m_2^2)-R^2\n",
        "\\end{equation}\n",
        "\\begin{equation}\n",
        "  R^2=\\alpha_1^2q_1^2+\\alpha_2^2q_2^2+\\alpha_1\\alpha_2(2q_1q_2)\n",
        "\\end{equation}"
      ],
      "metadata": {
        "id": "x432_MVMCaC_"
      }
    },
    {
      "cell_type": "markdown",
      "source": [
        "\\begin{equation}\n",
        "  \\int[d\\alpha]_2 = \\int_{0}^{1} d\\alpha_1 \\;\\;\\;\\;\\; \\alpha_2 = 1 - \\alpha_1\n",
        "\\end{equation}"
      ],
      "metadata": {
        "id": "HxhcyNu7DCkc"
      }
    },
    {
      "cell_type": "markdown",
      "source": [
        "\\begin{equation}\n",
        "   R_{0}=\\alpha_1q_1^{0}+\\alpha_2q_2^{0}\n",
        "\\end{equation}\n",
        "\\begin{equation}\n",
        "   R_{1}=\\alpha_1q_1^{1}+\\alpha_2q_2^{1}\n",
        "\\end{equation}\n",
        "\\begin{equation}\n",
        "   R_{2}=\\alpha_1q_1^{2}+\\alpha_2q_2^{2}\n",
        "\\end{equation}\n",
        "\\begin{equation}\n",
        "   \\cdot\\cdot\\cdot\\cdot\\cdot\\cdot\\cdot\\cdot\n",
        "\\end{equation}\n",
        "\\begin{equation}\n",
        "   R_{n}=\\alpha_1q_1^{n}+\\alpha_2q_2^{n}\n",
        "\\end{equation}"
      ],
      "metadata": {
        "id": "zVDJ8t2KELkF"
      }
    },
    {
      "cell_type": "markdown",
      "source": [
        "$$Q_{i}^{j} = \\begin{pmatrix}q_1^{0}&q_1^{1}&\\cdot\\cdot\\cdot&q_1^{j}&\\cdot\\cdot\\cdot&q_1^{n}\\\\q_2^{0}&q_2^{1}&\\cdot\\cdot\\cdot&q_2^{j}&\\cdot\\cdot\\cdot&q_2^{n}\\\\\\end{pmatrix} \\;\\;\\;\\;\\; i=\\overline{1,2}\\;\\;\\;\\;\\;j=\\overline{1...n}$$\n",
        "\n",
        "\n"
      ],
      "metadata": {
        "id": "n8GxeP36F-pE"
      }
    },
    {
      "cell_type": "markdown",
      "source": [
        "Пусть нам даны матрицы $Q$ и $M$:\n",
        "$$Q = \\begin{pmatrix}q_1\\\\q_2\\end{pmatrix}$$\n",
        "$$M = \\begin{pmatrix}m_1\\\\m_2\\end{pmatrix}$$"
      ],
      "metadata": {
        "id": "YhB5t9TjD0_T"
      }
    },
    {
      "cell_type": "markdown",
      "source": [
        "Введём матрицы $A$, $B$ и $C$ по следущим правилам:\n",
        "\\begin{equation}\n",
        "  A = \\begin{pmatrix}q_1^2\\\\q_2^2\\end{pmatrix} \\;\\;\\;\\;\\;\\;\n",
        "  B = \\begin{pmatrix}2q_1q_2\\end{pmatrix} \\;\\;\\;\\;\\;\\;\n",
        "  C = \\begin{pmatrix}q_1^2+m_1^2\\\\q_2^2+m_2^2\\end{pmatrix}\n",
        "\\end{equation}"
      ],
      "metadata": {
        "id": "9FcIS4H6Jv_f"
      }
    },
    {
      "cell_type": "code",
      "source": [
        "import numpy as np\n",
        "import sympy as sym\n",
        "from sympy import *    \n",
        "Q = np.array([1.0,1.0])\n",
        "M = np.array([1.0,1.0])\n",
        "R_mu = np.array([1.0,1.0])\n",
        "\n",
        "A = np.empty(2)\n",
        "C = np.empty(2)\n",
        "B = 2 * Q[0] * Q[1]\n",
        "for i in range(0,2):\n",
        "  A[i] = Q[i] * Q[i]\n",
        "  C[i] = Q[i] * Q[i] + M[i] * M[i]\n",
        "\n",
        "t = sym.Symbol('t')\n",
        "alpha_1 = sym.Symbol('alpha_1')\n",
        "alpha_2 = sym.Symbol('alpha_2')\n",
        "\n",
        "RR = alpha_1**2 * A[0] + alpha_2**2 * A[1] + alpha_1 * alpha_2 * B\n",
        "D = alpha_1 * C[0] + alpha_2 * C[1] - RR\n",
        "z_0 = t * D + ((t)/(1+t))*RR\n",
        "F_z_0 = sym.exp(-z_0)\n",
        "R = alpha_1 * R_mu[0] + alpha_2 * R_mu[1]\n",
        "\n",
        "source_expression = (t**2)/((1+t)**3)*F_z_0 * R\n",
        "source_expression = source_expression.subs(alpha_2, 1 - alpha_1) \n",
        "\n",
        "print(source_expression)"
      ],
      "metadata": {
        "colab": {
          "base_uri": "https://localhost:8080/"
        },
        "id": "PhDo2sEuJZqU",
        "outputId": "cd1a2323-f1e8-4764-dd0b-b7d9ca0048b1"
      },
      "execution_count": 32,
      "outputs": [
        {
          "output_type": "stream",
          "name": "stdout",
          "text": [
            "1.0*t**2*exp(-t*(-1.0*alpha_1**2 - 2.0*alpha_1*(1 - alpha_1) - 1.0*(1 - alpha_1)**2 + 2.0) - t*(1.0*alpha_1**2 + 2.0*alpha_1*(1 - alpha_1) + 1.0*(1 - alpha_1)**2)/(t + 1))/(t + 1)**3\n"
          ]
        }
      ]
    },
    {
      "cell_type": "code",
      "source": [
        "pip install mcint"
      ],
      "metadata": {
        "id": "_r4iJVxrU6P7"
      },
      "execution_count": null,
      "outputs": []
    },
    {
      "cell_type": "code",
      "source": [
        "import mcint\n",
        "import random\n",
        "import math\n",
        "import numpy as np\n",
        "def integrand(variable):\n",
        "    t = variable[0]\n",
        "    alpha_1 = variable[1]\n",
        "    return(1.0*t**2*exp(-t*(-1.0*alpha_1**2 - 2.0*alpha_1*(1 - alpha_1) - 1.0*(1 - alpha_1)**2 + 2.0) - t*(1.0*alpha_1**2 + 2.0*alpha_1*(1 - alpha_1) + 1.0*(1 - alpha_1)**2)/(t + 1))/(t + 1)**3)\n",
        "def sampler():\n",
        "    while True:\n",
        "        t = random.uniform(0,80000)\n",
        "        alpha_1 = random.uniform(0,1)\n",
        "        yield (t,alpha_1)\n",
        "result, error = mcint.integrate(integrand, sampler())\n",
        "print(result)"
      ],
      "metadata": {
        "colab": {
          "base_uri": "https://localhost:8080/"
        },
        "id": "XrOfBjk4VEBr",
        "outputId": "17209e79-b5ec-4df9-ffd5-d14893ca7063"
      },
      "execution_count": 33,
      "outputs": [
        {
          "output_type": "stream",
          "name": "stdout",
          "text": [
            "1.69114875008918e-318\n"
          ]
        }
      ]
    }
  ]
}