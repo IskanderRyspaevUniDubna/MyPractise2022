{
  "nbformat": 4,
  "nbformat_minor": 0,
  "metadata": {
    "colab": {
      "name": "Практика 2022 задание 3.ipynb",
      "provenance": [],
      "collapsed_sections": [],
      "authorship_tag": "ABX9TyOJiBhz3XgeTNs8fM1OuDpM",
      "include_colab_link": true
    },
    "kernelspec": {
      "name": "python3",
      "display_name": "Python 3"
    },
    "language_info": {
      "name": "python"
    }
  },
  "cells": [
    {
      "cell_type": "markdown",
      "metadata": {
        "id": "view-in-github",
        "colab_type": "text"
      },
      "source": [
        "<a href=\"https://colab.research.google.com/github/IskanderRyspaevUniDubna/MyPractise2022/blob/main/%D0%9F%D1%80%D0%B0%D0%BA%D1%82%D0%B8%D0%BA%D0%B0_2022_%D0%B7%D0%B0%D0%B4%D0%B0%D0%BD%D0%B8%D0%B5_3.ipynb\" target=\"_parent\"><img src=\"https://colab.research.google.com/assets/colab-badge.svg\" alt=\"Open In Colab\"/></a>"
      ]
    },
    {
      "cell_type": "markdown",
      "source": [
        "# Задание №3"
      ],
      "metadata": {
        "id": "bJHJvKQhsyBx"
      }
    },
    {
      "cell_type": "markdown",
      "source": [
        "\\begin{equation}\n",
        "  \\int\\frac{dp}{\\pi^2}F(p^2)\\frac{1}{((p+q_1)^2+m_1^2)((p+q_2)^2+m_2^2)} p_{\\mu} p_{\\nu}\n",
        "\\end{equation}\n",
        "\\begin{equation}\n",
        "  =\\frac{1}{2} {\\delta}_{\\mu\\nu}\\int[d\\alpha]_2\\frac{t}{(1+t)^3}dt \\int_0^{\\infty}du \\cdot F[z_0 + u] + \\int[d\\alpha]_2\\frac{t^3}{(1+t)^4}dt  \\cdot F[z_0]R_{\\mu}R_{\\nu}\n",
        "\\end{equation}\n"
      ],
      "metadata": {
        "id": "9wBQYDFJkmMl"
      }
    },
    {
      "cell_type": "markdown",
      "source": [
        "\\begin{equation}\n",
        "   R_{\\mu}=\\alpha_1q_1^{\\mu}+\\alpha_2q_2^{\\mu}\n",
        "\\end{equation}\n",
        "\\begin{equation}\n",
        "   R_{\\nu}=\\alpha_1q_1^{\\nu}+\\alpha_2q_2^{\\nu}\n",
        "\\end{equation}"
      ],
      "metadata": {
        "id": "d0wbdGBPpV0r"
      }
    },
    {
      "cell_type": "markdown",
      "source": [
        "\\begin{equation}\n",
        "z_0 = tD + \\frac{t}{1 + t} R^2\n",
        "\\end{equation}\n",
        "\\begin{equation}\n",
        "  F[z_0] = e^{-z_0}\n",
        "\\end{equation}"
      ],
      "metadata": {
        "id": "Hof_JlO9pxRr"
      }
    },
    {
      "cell_type": "markdown",
      "source": [
        "\\begin{equation}\n",
        "  D=\\alpha_1(q_1^2+m_1^2)+\\alpha_2(q_2^2+m_2^2)-R^2\n",
        "\\end{equation}\n",
        "\\begin{equation}\n",
        "  R^2=\\alpha_1^2q_1^2+\\alpha_2^2q_2^2+\\alpha_1\\alpha_2(2q_1q_2)\n",
        "\\end{equation}"
      ],
      "metadata": {
        "id": "kc562fPqp4Wq"
      }
    },
    {
      "cell_type": "markdown",
      "source": [
        "\\begin{equation}\n",
        "  \\int[d\\alpha]_2 = \\int_{0}^{1} d\\alpha_1 \\;\\;\\;\\;\\; \\alpha_2 = 1 - \\alpha_1\n",
        "\\end{equation}"
      ],
      "metadata": {
        "id": "pAMffWOXqU0G"
      }
    },
    {
      "cell_type": "markdown",
      "source": [
        "Пусть нам даны матрицы $Q$ и $M$:\n",
        "$$Q = \\begin{pmatrix}q_1\\\\q_2\\end{pmatrix}$$\n",
        "$$M = \\begin{pmatrix}m_1\\\\m_2\\end{pmatrix}$$\n",
        "Введём матрицы $A$, $B$ и $C$ по следущим правилам:\n",
        "\\begin{equation}\n",
        "  A = \\begin{pmatrix}q_1^2\\\\q_2^2\\end{pmatrix} \\;\\;\\;\\;\\;\\;\n",
        "  B = \\begin{pmatrix}2q_1q_2\\end{pmatrix} \\;\\;\\;\\;\\;\\;\n",
        "  C = \\begin{pmatrix}q_1^2+m_1^2\\\\q_2^2+m_2^2\\end{pmatrix}\n",
        "\\end{equation}"
      ],
      "metadata": {
        "id": "imr5QqbUquHZ"
      }
    },
    {
      "cell_type": "markdown",
      "source": [
        "Пусть \n",
        "$$I_1 = \\int[d\\alpha]_2\\frac{t}{(1+t)^3}dt \\int_0^{\\infty}du \\cdot F[z_0 + u]$$\n",
        "а\n",
        "$$I_2 = \\int[d\\alpha]_2\\frac{t^3}{(1+t)^4}dt  \\cdot F[z_0]R_{\\mu}R_{\\nu}$$"
      ],
      "metadata": {
        "id": "Zvftm5Q2rO1T"
      }
    },
    {
      "cell_type": "code",
      "source": [
        "import numpy as np\n",
        "import sympy as sym\n",
        "from sympy import *    \n",
        "Q = np.array([1.0,1.0])\n",
        "M = np.array([1.0,1.0])\n",
        "R_mu = np.array([1.0,1.0])\n",
        "R_nu = np.array([1.0,1.0])\n",
        "A = np.empty(2)\n",
        "C = np.empty(2)\n",
        "B = 2 * Q[0] * Q[1]\n",
        "for i in range(0,2):\n",
        "  A[i] = Q[i] * Q[i]\n",
        "  C[i] = Q[i] * Q[i] + M[i] * M[i]\n",
        "t = sym.Symbol('t')\n",
        "u = sym.Symbol('u')\n",
        "alpha_1 = sym.Symbol('alpha_1')\n",
        "alpha_2 = sym.Symbol('alpha_2')\n",
        "RR = alpha_1**2 * A[0] + alpha_2**2 * A[1] + alpha_1 * alpha_2 * B\n",
        "D = alpha_1 * C[0] + alpha_2 * C[1] - RR\n",
        "z_0 = t * D + ((t)/(1+t))*RR\n",
        "R_1 = alpha_1 * R_mu[0] + alpha_2 * R_mu[1]\n",
        "R_2 = alpha_1 * R_nu[0] + alpha_2 * R_nu[1]\n",
        "F_z_0 = sym.exp(-z_0 + u)\n",
        "I_1 = ((t)/(1+t)**3)*F_z_0\n",
        "I_1 = I_1.subs(alpha_2, 1 - alpha_1)  \n",
        "F_z_0 = sym.exp(-z_0)\n",
        "I_2 = ((t**3)/(1 + t)**4)*F_z_0 *R_1 * R_2\n",
        "I_2 = I_2.subs(alpha_2, 1 - alpha_1)  \n",
        "print(I_1)\n",
        "print(I_2)"
      ],
      "metadata": {
        "colab": {
          "base_uri": "https://localhost:8080/"
        },
        "id": "f56ScHCaqbah",
        "outputId": "1df15084-a465-48a1-d205-3ed35c4b67c5"
      },
      "execution_count": 7,
      "outputs": [
        {
          "output_type": "stream",
          "name": "stdout",
          "text": [
            "t*exp(-t*(-1.0*alpha_1**2 - 2.0*alpha_1*(1 - alpha_1) - 1.0*(1 - alpha_1)**2 + 2.0) - t*(1.0*alpha_1**2 + 2.0*alpha_1*(1 - alpha_1) + 1.0*(1 - alpha_1)**2)/(t + 1) + u)/(t + 1)**3\n",
            "1.0*t**3*exp(-t*(-1.0*alpha_1**2 - 2.0*alpha_1*(1 - alpha_1) - 1.0*(1 - alpha_1)**2 + 2.0) - t*(1.0*alpha_1**2 + 2.0*alpha_1*(1 - alpha_1) + 1.0*(1 - alpha_1)**2)/(t + 1))/(t + 1)**4\n"
          ]
        }
      ]
    },
    {
      "cell_type": "code",
      "source": [
        "pip install mcint"
      ],
      "metadata": {
        "colab": {
          "base_uri": "https://localhost:8080/"
        },
        "id": "ozfseFbKtair",
        "outputId": "4aefcb46-6735-4683-abda-b90084985e63"
      },
      "execution_count": 8,
      "outputs": [
        {
          "output_type": "stream",
          "name": "stdout",
          "text": [
            "Looking in indexes: https://pypi.org/simple, https://us-python.pkg.dev/colab-wheels/public/simple/\n",
            "Requirement already satisfied: mcint in /usr/local/lib/python3.7/dist-packages (0.1.dev5)\n"
          ]
        }
      ]
    },
    {
      "cell_type": "code",
      "source": [
        "import mcint\n",
        "import random\n",
        "import math\n",
        "import numpy as np\n",
        "def integrand(variable):\n",
        "    t = variable[0]\n",
        "    alpha_1 = variable[1]\n",
        "    u = variable[2]\n",
        "    return(t*exp(-t*(-1.0*alpha_1**2 - 2.0*alpha_1*(1 - alpha_1) - 1.0*(1 - alpha_1)**2 + 2.0) - t*(1.0*alpha_1**2 + 2.0*alpha_1*(1 - alpha_1) + 1.0*(1 - alpha_1)**2)/(t + 1) + u)/(t + 1)**3)\n",
        "def sampler():\n",
        "    while True:\n",
        "        t = random.uniform(0,80000)\n",
        "        alpha_1 = random.uniform(0,1)\n",
        "        u = random.uniform(0,80000)\n",
        "        yield (t,alpha_1,u)\n",
        "result, error = mcint.integrate(integrand, sampler())\n",
        "print(result)"
      ],
      "metadata": {
        "colab": {
          "base_uri": "https://localhost:8080/"
        },
        "id": "_gJwoHBBtbR2",
        "outputId": "b144d95f-ee6e-4e09-820f-592ab1b8a30c"
      },
      "execution_count": 9,
      "outputs": [
        {
          "output_type": "stream",
          "name": "stdout",
          "text": [
            "6.15670774308203e+33360\n"
          ]
        }
      ]
    },
    {
      "cell_type": "code",
      "source": [
        "import mcint\n",
        "import random\n",
        "import math\n",
        "import numpy as np\n",
        "def integrand(variable):\n",
        "    t = variable[0]\n",
        "    alpha_1 = variable[1]\n",
        "    u = variable[2]\n",
        "    return(1.0*t**3*exp(-t*(-1.0*alpha_1**2 - 2.0*alpha_1*(1 - alpha_1) - 1.0*(1 - alpha_1)**2 + 2.0) - t*(1.0*alpha_1**2 + 2.0*alpha_1*(1 - alpha_1) + 1.0*(1 - alpha_1)**2)/(t + 1))/(t + 1)**4)\n",
        "def sampler():\n",
        "    while True:\n",
        "        t = random.uniform(0,80000)\n",
        "        alpha_1 = random.uniform(0,1)\n",
        "        u = random.uniform(0,80000)\n",
        "        yield (t,alpha_1,u)\n",
        "result, error = mcint.integrate(integrand, sampler())\n",
        "print(result)"
      ],
      "metadata": {
        "colab": {
          "base_uri": "https://localhost:8080/"
        },
        "id": "WIc9x205uExi",
        "outputId": "1e1aa718-6bf3-460a-e0af-7be17ffa7b68"
      },
      "execution_count": 10,
      "outputs": [
        {
          "output_type": "stream",
          "name": "stdout",
          "text": [
            "2.58508085041283e-322\n"
          ]
        }
      ]
    }
  ]
}