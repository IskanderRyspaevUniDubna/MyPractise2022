{
  "nbformat": 4,
  "nbformat_minor": 0,
  "metadata": {
    "colab": {
      "name": "Практика 2022 задание 4.ipynb",
      "provenance": [],
      "collapsed_sections": [],
      "authorship_tag": "ABX9TyO3RvLw4QSqV/fMl/kbyrVM",
      "include_colab_link": true
    },
    "kernelspec": {
      "name": "python3",
      "display_name": "Python 3"
    },
    "language_info": {
      "name": "python"
    }
  },
  "cells": [
    {
      "cell_type": "markdown",
      "metadata": {
        "id": "view-in-github",
        "colab_type": "text"
      },
      "source": [
        "<a href=\"https://colab.research.google.com/github/IskanderRyspaevUniDubna/MyPractise2022/blob/main/%D0%9F%D1%80%D0%B0%D0%BA%D1%82%D0%B8%D0%BA%D0%B0_2022_%D0%B7%D0%B0%D0%B4%D0%B0%D0%BD%D0%B8%D0%B5_4.ipynb\" target=\"_parent\"><img src=\"https://colab.research.google.com/assets/colab-badge.svg\" alt=\"Open In Colab\"/></a>"
      ]
    },
    {
      "cell_type": "markdown",
      "source": [
        "# **Задание №4**"
      ],
      "metadata": {
        "id": "XpTyjqlul0BZ"
      }
    },
    {
      "cell_type": "markdown",
      "source": [
        "\\begin{equation}\n",
        "  \\int\\frac{dp}{\\pi^2}F(p^2)\\frac{1}{((p+q_1)^2+m_1^2)((p+q_2)^2+m_2^2)((p+q_3)^2+m_3^2)}=-\\int[d\\alpha]_3\\frac{t^2}{(1+t)^2}dt\\cdot F^{'}[z_0]\n",
        "\\end{equation}"
      ],
      "metadata": {
        "id": "ZMV8wUjMyHXv"
      }
    },
    {
      "cell_type": "markdown",
      "source": [
        "\\begin{equation}\n",
        "  D=\\alpha_1(q_1^2+m_1^2)+\\alpha_2(q_2^2+m_2^2)+\\alpha_3(q_3^2+m_3^2)-R^2\n",
        "\\end{equation}\n",
        "\\begin{equation}\n",
        "  R^2=\\alpha_1^2q_1^2+\\alpha_2^2q_2^2+\\alpha_3^2q_3^2+\\alpha_1\\alpha_2(2q_1q_2)+\\alpha_2\\alpha_3(2q_2q_3)+\\alpha_1\\alpha_3(2q_1q_3)\n",
        "\\end{equation}"
      ],
      "metadata": {
        "id": "Zdq4nV1Q3q1H"
      }
    },
    {
      "cell_type": "markdown",
      "source": [
        "\\begin{equation}\n",
        "z_0 = tD + \\frac{t}{1 + t} R^2\n",
        "\\end{equation}\n",
        "\\begin{equation}\n",
        "  F[z_0] = e^{-z_0}\n",
        "\\end{equation}"
      ],
      "metadata": {
        "id": "YkVrB3AY9ryf"
      }
    },
    {
      "cell_type": "markdown",
      "source": [
        "Пусть нам даны матрицы $Q$ и $M$:\n",
        "$$Q = \\begin{pmatrix}q_1\\\\q_2\\\\q_3\\end{pmatrix}$$\n",
        "$$M = \\begin{pmatrix}m_1\\\\m_2\\\\m_3\\end{pmatrix}$$"
      ],
      "metadata": {
        "id": "BBxPDWYwC_hX"
      }
    },
    {
      "cell_type": "code",
      "source": [
        "import numpy as np\n",
        "Q = np.array([1,1,1])\n",
        "M = np.array([1,1,1])\n",
        "print(Q)\n",
        "print(M)"
      ],
      "metadata": {
        "colab": {
          "base_uri": "https://localhost:8080/"
        },
        "id": "UZ1Zxvb1EGBb",
        "outputId": "f3a3f02c-f407-4649-9ea0-a051f7f83748"
      },
      "execution_count": 1,
      "outputs": [
        {
          "output_type": "stream",
          "name": "stdout",
          "text": [
            "[1 1 1]\n",
            "[1 1 1]\n"
          ]
        }
      ]
    },
    {
      "cell_type": "markdown",
      "source": [
        "Введём матрицы $A$, $B$ и $C$ по следущим правилам:\n",
        "\\begin{equation}\n",
        "  A = \\begin{pmatrix}q_1^2\\\\q_2^2\\\\q_3^2\\end{pmatrix} \\;\\;\\;\\;\\;\\;\n",
        "  B = \\begin{pmatrix}2q_1q_2\\\\2q_2q_3\\\\2q_1q_3\\end{pmatrix} \\;\\;\\;\\;\\;\\;\n",
        "  C = \\begin{pmatrix}q_1^2+m_1^2\\\\q_2^2+m_2^2\\\\q_3^2+m_3^2\\end{pmatrix}\n",
        "\\end{equation}"
      ],
      "metadata": {
        "id": "_eXFn_BYFds7"
      }
    },
    {
      "cell_type": "code",
      "source": [
        "A = np.empty(3)\n",
        "B = np.empty(3)\n",
        "C = np.empty(3)\n",
        "B[0] = 2 * Q[0] * Q[1]\n",
        "B[1] = 2 * Q[1] * Q[2]\n",
        "B[2] = 2 * Q[0] * Q[2]\n",
        "for i in range(0,3):\n",
        "  A[i] = Q[i] * Q[i]\n",
        "  C[i] = Q[i] * Q[i] + M[i] * M[i]\n",
        "print(C)"
      ],
      "metadata": {
        "colab": {
          "base_uri": "https://localhost:8080/"
        },
        "id": "1zC9zK7HG0xj",
        "outputId": "2b8b1e56-ca83-40e0-b4c1-aa3334662eac"
      },
      "execution_count": 2,
      "outputs": [
        {
          "output_type": "stream",
          "name": "stdout",
          "text": [
            "[2. 2. 2.]\n"
          ]
        }
      ]
    },
    {
      "cell_type": "markdown",
      "source": [
        "По условию задания:\n",
        "$$\\alpha_1$$\n",
        "$$\\alpha_2 = 1 - \\alpha_1$$\n",
        "$$\\alpha_3 = 1 - \\alpha_1 - \\alpha_2$$\n",
        "Пусть $\\alpha_1=x\\;\\;$$\\alpha_2=y\\;\\;$$\\alpha_3=z$. Тогда получим, что:\n",
        "$$x$$\n",
        "$$y = 1 - x$$\n",
        "$$z = 1 - x - y$$\n"
      ],
      "metadata": {
        "id": "igaLEj2VLsYj"
      }
    },
    {
      "cell_type": "markdown",
      "source": [
        "\\begin{equation}\n",
        "  D=\\alpha_1(q_1^2+m_1^2)+\\alpha_2(q_2^2+m_2^2)+\\alpha_3(q_3^2+m_3^2)-R^2\n",
        "\\end{equation}\n",
        "\\begin{equation}\n",
        "  R^2=\\alpha_1^2q_1^2+\\alpha_2^2q_2^2+\\alpha_3^2q_3^2+\\alpha_1\\alpha_2(2q_1q_2)+\\alpha_2\\alpha_3(2q_2q_3)+\\alpha_1\\alpha_3(2q_1q_3)\n",
        "\\end{equation}"
      ],
      "metadata": {
        "id": "B7K3ylSEPfU5"
      }
    },
    {
      "cell_type": "code",
      "source": [
        "import sympy as sym\n",
        "x = sym.Symbol('x')\n",
        "y = sym.Symbol('y')\n",
        "z = sym.Symbol('z')\n",
        "RR = (x**2)*A[0] + (y**2)*A[1] + (z**2)*A[2] + x*y*B[0] + y*z*B[1] + x*z*B[2]\n",
        "D = x * C[0] + y * C[1] + z * C[2] - RR "
      ],
      "metadata": {
        "id": "gzA1WfBROMX0"
      },
      "execution_count": 3,
      "outputs": []
    },
    {
      "cell_type": "markdown",
      "source": [
        "Возьмем производную от выражения $F[z_0] = e^{-z_0}$ по $z_0$ и получим:\n",
        "$$F^{'}[z_0] = -e^{-z_0}$$\n",
        "\n",
        "По определению $z$:\n",
        "\\begin{equation}\n",
        "z_0 = tD + \\frac{t}{1 + t} R^2\n",
        "\\end{equation}"
      ],
      "metadata": {
        "id": "QTmW4_wnURNC"
      }
    },
    {
      "cell_type": "code",
      "source": [
        "import sympy as sym\n",
        "x = sym.Symbol('x')\n",
        "y = sym.Symbol('y')\n",
        "z = sym.Symbol('z')\n",
        "t = sym.Symbol('t')\n",
        "\n",
        "z_0 = t * D + ((t)/(1+t))*RR\n",
        "\n",
        "F_z_0 = -sym.exp(-z_0)\n",
        "source_expression = (t**2)/((1+t)**3) * F_z_0\n",
        "print(source_expression)"
      ],
      "metadata": {
        "id": "RgMukzDYVYFH",
        "colab": {
          "base_uri": "https://localhost:8080/"
        },
        "outputId": "6c77d292-af2a-4787-9524-27ac06a0d309"
      },
      "execution_count": 4,
      "outputs": [
        {
          "output_type": "stream",
          "name": "stdout",
          "text": [
            "-t**2*exp(-t*(-1.0*x**2 - 2.0*x*y - 2.0*x*z + 2.0*x - 1.0*y**2 - 2.0*y*z + 2.0*y - 1.0*z**2 + 2.0*z) - t*(1.0*x**2 + 2.0*x*y + 2.0*x*z + 1.0*y**2 + 2.0*y*z + 1.0*z**2)/(t + 1))/(t + 1)**3\n"
          ]
        }
      ]
    },
    {
      "cell_type": "code",
      "source": [
        "import mcint\n",
        "import random\n",
        "import math\n",
        "import numpy as np\n",
        "def integrand(variable):\n",
        "    x = variable[0]\n",
        "    y = variable[1]\n",
        "    z = variable[2]\n",
        "    t = variable[3]\n",
        "    return (-t**2*math.exp(-t*(-1.0*x**2 - 2.0*x*y - 2.0*x*z + 2.0*x - 1.0*y**2 - 2.0*y*z + 2.0*y - 1.0*z**2 + 2.0*z) - t*(1.0*x**2 + 2.0*x*y + 2.0*x*z + 1.0*y**2 + 2.0*y*z + 1.0*z**2)/(t + 1))/(t + 1)**3)\n",
        "def sampler():\n",
        "    while True:\n",
        "        x = random.uniform(0,1)\n",
        "        y = random.uniform(0,1-x)\n",
        "        z = random.uniform(0,1-x-y)\n",
        "        t = random.uniform(0, 80000)\n",
        "        yield (x,y,z,t)\n",
        "result, error = mcint.integrate(integrand, sampler())\n",
        "print(result)"
      ],
      "metadata": {
        "id": "KbtgpOewhbUz",
        "colab": {
          "base_uri": "https://localhost:8080/"
        },
        "outputId": "87de9a40-3962-499c-d26f-69691fd2c426"
      },
      "execution_count": 5,
      "outputs": [
        {
          "output_type": "stream",
          "name": "stdout",
          "text": [
            "-1.7395630836468197e-164\n"
          ]
        }
      ]
    },
    {
      "cell_type": "code",
      "source": [
        "pip install mcint"
      ],
      "metadata": {
        "id": "I3wm9Qr-MdyS",
        "colab": {
          "base_uri": "https://localhost:8080/"
        },
        "outputId": "f4735f23-ec54-40f2-d0dc-f84dbbb5f864"
      },
      "execution_count": 6,
      "outputs": [
        {
          "output_type": "stream",
          "name": "stdout",
          "text": [
            "Looking in indexes: https://pypi.org/simple, https://us-python.pkg.dev/colab-wheels/public/simple/\n",
            "Requirement already satisfied: mcint in /usr/local/lib/python3.7/dist-packages (0.1.dev5)\n"
          ]
        }
      ]
    },
    {
      "cell_type": "markdown",
      "source": [
        "[О библиотеке mcint](https://overcoder.net/q/327403/%D0%B8%D0%BD%D1%82%D0%B5%D0%B3%D1%80%D0%B8%D1%80%D0%BE%D0%B2%D0%B0%D0%BD%D0%B8%D0%B5-%D0%BC%D0%BD%D0%BE%D0%B3%D0%BE%D0%BC%D0%B5%D1%80%D0%BD%D0%BE%D0%B3%D0%BE-%D0%B8%D0%BD%D1%82%D0%B5%D0%B3%D1%80%D0%B0%D0%BB%D0%B0-%D0%B2-scipy)\n",
        "\n",
        "[SymPy](https://www.inp.nsk.su/~grozin/python/b25_sympy.html)\n",
        "\n",
        "[Сайт для ввода формул в ЛаТеХ](https://latexeditor.lagrida.com/)\n",
        "\n",
        "[Питон в научных вычислениях](https://inp.nsk.su/~grozin/python/python7.html)\n",
        "\n",
        "[Язык Python 3 для научных исследований](https://docs.yandex.ru/docs/view?tm=1657306821&tld=ru&lang=ru&name=SymPy2017.pdf&text=SymPy%20%D1%87%D0%B8%D1%81%D0%BB%D0%BE%20e&url=http%3A%2F%2Fvgupetrova.ru%2Fwp-content%2Fuploads%2F2019%2F11%2FSymPy2017.pdf&lr=215&mime=pdf&l10n=ru&sign=45a938649a70505efdc10f3cb7990435&keyno=0&nosw=1&serpParams=tm%3D1657306821%26tld%3Dru%26lang%3Dru%26name%3DSymPy2017.pdf%26text%3DSymPy%2B%25D1%2587%25D0%25B8%25D1%2581%25D0%25BB%25D0%25BE%2Be%26url%3Dhttp%253A%2F%2Fvgupetrova.ru%2Fwp-content%2Fuploads%2F2019%2F11%2FSymPy2017.pdf%26lr%3D215%26mime%3Dpdf%26l10n%3Dru%26sign%3D45a938649a70505efdc10f3cb7990435%26keyno%3D0%26nosw%3D1)\n",
        "\n",
        "[Как получить из ipynb pdf или ЛаТеХ](https://)"
      ],
      "metadata": {
        "id": "CkZ9EbsTn74v"
      }
    }
  ]
}